{
 "cells": [
  {
   "cell_type": "markdown",
   "id": "bde37b1b-a13e-4f30-9528-308ed8275d1f",
   "metadata": {},
   "source": [
    "# Flask Web App with Python (beginners tutorial)\n",
    "https://pythonspot.com/flask-web-app-with-python/"
   ]
  },
  {
   "cell_type": "markdown",
   "id": "b0060f36-142d-4ce7-bf77-98fd72ae0804",
   "metadata": {},
   "source": [
    "Why Flask?\n",
    "    easy to use.\n",
    "\n",
    "    built in development server and debugger\n",
    "\n",
    "    integrated unit testing support\n",
    "\n",
    "    RESTful request dispatching\n",
    "\n",
    "    uses Jinja2 templating\n",
    "\n",
    "    support for secure cookies (client side sessions)\n",
    "\n",
    "    100% WSGI 1.0 compliant\n",
    "\n",
    "    Unicode based\n",
    "\n",
    "    extensively documented"
   ]
  },
  {
   "cell_type": "code",
   "execution_count": null,
   "id": "0227aba7-96d3-4f02-a9db-86524f7ce8f4",
   "metadata": {},
   "outputs": [],
   "source": [
    "from flask import Flask\n",
    "app = Flask(__name__)\n",
    "\n",
    "@app.route(\"/\")\n",
    "def hello():\n",
    "    return \"Hello World\"\n",
    "\n",
    "if __name__ == \"__main__\":\n",
    "    app.run()"
   ]
  },
  {
   "cell_type": "markdown",
   "id": "ed69cea9-7ef7-40a6-adc2-e7e0a4383019",
   "metadata": {},
   "source": [
    "## Creating URL routes\n",
    "* URL Routing makes URLs in your Web app easy to remember. We will now create some URL routes:"
   ]
  },
  {
   "cell_type": "code",
   "execution_count": null,
   "id": "6f221107-d6b0-4789-8716-92160c422151",
   "metadata": {},
   "outputs": [],
   "source": [
    "from flask import Flask\n",
    "app = Flask(__name__)\n",
    "\n",
    "@app.route(\"/\")\n",
    "def index():\n",
    "    return \"Index!\"\n",
    "\n",
    "@app.route(\"/hello\")\n",
    "def hello():\n",
    "    return \"Hello World!\"\n",
    "\n",
    "@app.route(\"/members/<string:name>/\")\n",
    "def getMember(name):\n",
    "    return \"The name is \"+ str(name)\n",
    "@app.route('/sale/<transaction_id>')\n",
    "def get_sale(transaction_id=0):\n",
    "    return \"The transaction is \"+str(transaction_id)\n",
    "\n",
    "@app.route('/create/<first_name>/<last_name>')\n",
    "def create(first_name=None, last_name=None):\n",
    "    return 'Hello ' + first_name + ',' + last_name\n",
    "\n",
    "if __name__==\"__main__\":\n",
    "    app.run()"
   ]
  },
  {
   "cell_type": "markdown",
   "id": "c3686e96-488a-4bab-8624-27e6691d2639",
   "metadata": {},
   "source": [
    "## flask route post\n",
    "Flask suports HTTP POST requests."
   ]
  },
  {
   "cell_type": "code",
   "execution_count": null,
   "id": "cabb77c8-1308-415a-9c42-353d3e295508",
   "metadata": {},
   "outputs": [
    {
     "name": "stdout",
     "output_type": "stream",
     "text": [
      " * Serving Flask app '__main__' (lazy loading)\n",
      " * Environment: production\n",
      "\u001b[31m   WARNING: This is a development server. Do not use it in a production deployment.\u001b[0m\n",
      "\u001b[2m   Use a production WSGI server instead.\u001b[0m\n",
      " * Debug mode: off\n"
     ]
    },
    {
     "name": "stderr",
     "output_type": "stream",
     "text": [
      " * Running on http://127.0.0.1:5000/ (Press CTRL+C to quit)\n",
      "127.0.0.1 - - [27/Jul/2021 22:45:13] \"GET /login HTTP/1.1\" 200 -\n",
      "127.0.0.1 - - [27/Jul/2021 22:45:22] \"POST /login HTTP/1.1\" 302 -\n",
      "127.0.0.1 - - [27/Jul/2021 22:45:22] \"GET /dashboard/Pranav HTTP/1.1\" 200 -\n"
     ]
    }
   ],
   "source": [
    "from flask import Flask\n",
    "from flask import render_template\n",
    "from flask import request\n",
    "\n",
    "from flask import Flask, redirect, url_for, request\n",
    "app = Flask(__name__)\n",
    "\n",
    "@app.route('/dashboard/<name>')\n",
    "def dashboard(name):\n",
    "   return 'welcome %s' % name\n",
    "\n",
    "@app.route('/login',methods = ['POST', 'GET'])\n",
    "def login():\n",
    "   if request.method == 'POST':\n",
    "      user = request.form['name']\n",
    "      return redirect(url_for('dashboard',name = user))\n",
    "   else:\n",
    "      user = request.args.get('name')\n",
    "      return render_template('login.html')\n",
    "\n",
    "if __name__ == '__main__':\n",
    "   app.run()"
   ]
  },
  {
   "cell_type": "code",
   "execution_count": null,
   "id": "37ebd078-b9c7-46c5-bf1d-84d86fb93cbb",
   "metadata": {},
   "outputs": [],
   "source": []
  }
 ],
 "metadata": {
  "kernelspec": {
   "display_name": "Python 3",
   "language": "python",
   "name": "python3"
  },
  "language_info": {
   "codemirror_mode": {
    "name": "ipython",
    "version": 3
   },
   "file_extension": ".py",
   "mimetype": "text/x-python",
   "name": "python",
   "nbconvert_exporter": "python",
   "pygments_lexer": "ipython3",
   "version": "3.8.10"
  }
 },
 "nbformat": 4,
 "nbformat_minor": 5
}
